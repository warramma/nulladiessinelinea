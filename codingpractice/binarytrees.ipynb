{
 "cells": [
  {
   "cell_type": "markdown",
   "id": "74f32c8a",
   "metadata": {},
   "source": [
    "# Problem 1: Grafting Apples\n",
    "\n",
    "You are grafting different varieties of apple onto the same root tree can produce many different varieties of apples! Given the following TreeNode class, create the binary tree depicted below. The text representing each node should should be used as the value.\n",
    "\n",
    "The root, or topmost node in the tree TreeNode(\"Trunk\") has been provided for you. Then, print the tree. \n",
    "             Trunk\n",
    "          /         \\\n",
    "      Mcintosh   Granny Smith\n",
    "      /     \\       /     \\\n",
    "    Fuji   Opal   Crab   Gala"
   ]
  },
  {
   "cell_type": "code",
   "execution_count": 35,
   "id": "e4199cf2",
   "metadata": {},
   "outputs": [],
   "source": [
    "class TreeNode:\n",
    "    def __init__(self, value, left=None, right=None):\n",
    "        self.val = value\n",
    "        self.left = left\n",
    "        self.right = right\n",
    "\n",
    "root = TreeNode(\"Trunk\")"
   ]
  },
  {
   "cell_type": "code",
   "execution_count": 36,
   "id": "51204abc",
   "metadata": {},
   "outputs": [
    {
     "data": {
      "text/plain": [
       "['Trunk', 'McIntosh', 'Fuji', 'Opal', 'Granny Smith', 'Crab', 'Gala']"
      ]
     },
     "execution_count": 36,
     "metadata": {},
     "output_type": "execute_result"
    }
   ],
   "source": [
    "root.left = TreeNode(\"McIntosh\")\n",
    "root.left.left = TreeNode(\"Fuji\")\n",
    "root.left.right = TreeNode(\"Opal\")\n",
    "root.right = TreeNode(\"Granny Smith\")\n",
    "root.right.left = TreeNode(\"Crab\")\n",
    "root.right.right = TreeNode(\"Gala\")\n",
    "\n",
    "\n",
    "def print_tree(root):\n",
    "    tree = []\n",
    "\n",
    "    def print_tree_helper(root):\n",
    "        if not root:\n",
    "            return\n",
    "        # if not root.left or not root.right:\n",
    "        #     return\n",
    "        else:\n",
    "            if not root.val:\n",
    "                tree.append(root)\n",
    "            else:\n",
    "                tree.append(root.val)\n",
    "        \n",
    "            left = print_tree_helper(root.left)\n",
    "            right = print_tree_helper(root.right)\n",
    "            if left:\n",
    "                tree.append(left)\n",
    "            if right:\n",
    "                tree.append(right)\n",
    "        \n",
    "\n",
    "    print_tree_helper(root)\n",
    "    return tree\n",
    "\n",
    "\n",
    "print_tree(root)"
   ]
  },
  {
   "cell_type": "markdown",
   "id": "377b4567",
   "metadata": {},
   "source": [
    "# Problem 2: Calculating Yield\n",
    "\n",
    "You have a fruit tree represented as a binary tree with exactly three nodes: the root and its two children. Given the root of the tree, evaluate the amount of fruit your tree will yield this year. The tree has the following form:\n",
    "\n",
    "Leaf nodes have an integer value.\n",
    "The root has a string value of either \"+\", \"-\", \"*\", or \"-\".\n",
    "The yield of a the tree is calculated by applying the mathematical operation to the two children.\n",
    "\n",
    "Return the result of evaluating the root node.\n",
    "\n",
    "Evaluate the time complexity of your function. Define your variables and provide a rationale for why you believe your solution has the stated time complexity."
   ]
  },
  {
   "cell_type": "code",
   "execution_count": 45,
   "id": "23db7c1f",
   "metadata": {},
   "outputs": [
    {
     "name": "stdout",
     "output_type": "stream",
     "text": [
      "['*', 7, 5]\n",
      "['/', 7, 5]\n",
      "['-', 7, 5]\n",
      "['+', 7, 5]\n",
      "7 * 5 = 35\n",
      "7 / 5 = 1.4\n",
      "7 - 5 = 2\n",
      "7 + 5 = 12\n"
     ]
    }
   ],
   "source": [
    "class Tree_node:\n",
    "    def __init__ (self, value, left=None, right=None):\n",
    "        self.val = value\n",
    "        self.left = left\n",
    "        self.right = right  \n",
    "\n",
    "\n",
    "mango_tree = Tree_node(\"*\", Tree_node(7), Tree_node(5))\n",
    "pear_tree = Tree_node(\"/\", Tree_node(7), Tree_node(5))\n",
    "apple_tree = Tree_node(\"-\", Tree_node(7), Tree_node(5))\n",
    "peach_tree = Tree_node(\"+\", Tree_node(7), Tree_node(5))\n",
    "\n",
    "print(print_tree(mango_tree))\n",
    "print(print_tree(pear_tree))\n",
    "print(print_tree(apple_tree))\n",
    "print(print_tree(peach_tree))\n",
    "\n",
    "def evaluate_Math_Tree(tree_root):\n",
    "    operation = tree_root.val\n",
    "    left = tree_root.left.val\n",
    "    right = tree_root.right.val\n",
    "    result = f\"{left} {operation} {right} = \"\n",
    "    \n",
    "    if operation == \"*\":\n",
    "        result += str(left * right)\n",
    "    elif operation == \"/\":\n",
    "        result += str(left / right)\n",
    "    elif operation == \"-\":\n",
    "        result += str(left - right)\n",
    "    elif operation == \"+\":\n",
    "        result += str(left + right)\n",
    "    else:\n",
    "        result = \"This operation is not supported.\"\n",
    "    return result\n",
    "\n",
    "print(evaluate_Math_Tree(mango_tree))\n",
    "print(evaluate_Math_Tree(pear_tree))\n",
    "print(evaluate_Math_Tree(apple_tree))\n",
    "print(evaluate_Math_Tree(peach_tree))"
   ]
  },
  {
   "cell_type": "markdown",
   "id": "d9faec64",
   "metadata": {},
   "source": [
    "# Important note to self - practice running code in my head before actually running it"
   ]
  },
  {
   "cell_type": "markdown",
   "id": "1913d89e",
   "metadata": {},
   "source": [
    "# printing just the right side of a tree (iterative and recursive)\n",
    "## iterative"
   ]
  },
  {
   "cell_type": "code",
   "execution_count": 51,
   "id": "db39d6a1",
   "metadata": {},
   "outputs": [
    {
     "name": "stdout",
     "output_type": "stream",
     "text": [
      "['Trunk', 'Granny Smith', 'Gala']\n",
      "['Trunk', 'Granny Smith', 'Gala']\n"
     ]
    }
   ],
   "source": [
    "class TreeNode:\n",
    "    def __init__(self, value, left=None, right=None):\n",
    "        self.val = value\n",
    "        self.left = left\n",
    "        self.right = right\n",
    "\n",
    "root = TreeNode(\"Trunk\")\n",
    "root.left = TreeNode(\"McIntosh\")\n",
    "root.left.left = TreeNode(\"Fuji\")\n",
    "root.left.right = TreeNode(\"Opal\")\n",
    "root.right = TreeNode(\"Granny Smith\")\n",
    "root.right.left = TreeNode(\"Crab\")\n",
    "root.right.right = TreeNode(\"Gala\")\n",
    "\n",
    "def print_right_recursive(root):\n",
    "    right_cutting = []\n",
    "\n",
    "    def print_right_recursive_helper (root):\n",
    "        if not root:\n",
    "            return\n",
    "        else:\n",
    "            right_cutting.append(root.val)\n",
    "            return print_right_recursive_helper(root.right)\n",
    "    \n",
    "    print_right_recursive_helper(root)\n",
    "    return right_cutting\n",
    "\n",
    "def print_right_iterative(root):\n",
    "    right_cutting = []\n",
    "\n",
    "    while root:\n",
    "        right_cutting.append(root.val)\n",
    "        root = root.right\n",
    "    return right_cutting\n",
    "\n",
    "\n",
    "print(print_right_recursive(root))\n",
    "print(print_right_iterative(root))"
   ]
  },
  {
   "cell_type": "markdown",
   "id": "6fd0404c",
   "metadata": {},
   "source": [
    "# Count leaf nodes"
   ]
  },
  {
   "cell_type": "code",
   "execution_count": 6,
   "id": "19c0942f",
   "metadata": {},
   "outputs": [
    {
     "name": "stdout",
     "output_type": "stream",
     "text": [
      "4\n"
     ]
    }
   ],
   "source": [
    "class TreeNode:\n",
    "    def __init__(self, value, left=None, right=None):\n",
    "        self.val = value\n",
    "        self.left = left\n",
    "        self.right = right\n",
    "\n",
    "root = TreeNode(\"Trunk\")\n",
    "root.left = TreeNode(\"McIntosh\")\n",
    "root.left.left = TreeNode(\"Fuji\")\n",
    "root.left.right = TreeNode(\"Opal\")\n",
    "root.right = TreeNode(\"Granny Smith\")\n",
    "root.right.left = TreeNode(\"Crab\")\n",
    "root.right.right = TreeNode(\"Gala\")\n",
    "\n",
    "def count_leafnodes(root):\n",
    "    if not root.right and not root.left:\n",
    "        return 1\n",
    "    else:\n",
    "        left_leaves = count_leafnodes(root.left)\n",
    "        right_leaves = count_leafnodes(root.right)\n",
    "    return left_leaves + right_leaves\n",
    "\n",
    "print(count_leafnodes(root))"
   ]
  }
 ],
 "metadata": {
  "kernelspec": {
   "display_name": "Python 3",
   "language": "python",
   "name": "python3"
  },
  "language_info": {
   "codemirror_mode": {
    "name": "ipython",
    "version": 3
   },
   "file_extension": ".py",
   "mimetype": "text/x-python",
   "name": "python",
   "nbconvert_exporter": "python",
   "pygments_lexer": "ipython3",
   "version": "3.12.10"
  }
 },
 "nbformat": 4,
 "nbformat_minor": 5
}
