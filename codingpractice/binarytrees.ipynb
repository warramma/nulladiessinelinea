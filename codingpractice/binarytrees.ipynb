{
 "cells": [
  {
   "cell_type": "markdown",
   "id": "74f32c8a",
   "metadata": {},
   "source": [
    "# Problem 1: Grafting Apples\n",
    "\n",
    "You are grafting different varieties of apple onto the same root tree can produce many different varieties of apples! Given the following TreeNode class, create the binary tree depicted below. The text representing each node should should be used as the value.\n",
    "\n",
    "The root, or topmost node in the tree TreeNode(\"Trunk\") has been provided for you. Then, print the tree. \n",
    "             Trunk\n",
    "          /         \\\n",
    "      Mcintosh   Granny Smith\n",
    "      /     \\       /     \\\n",
    "    Fuji   Opal   Crab   Gala"
   ]
  },
  {
   "cell_type": "code",
   "execution_count": 8,
   "id": "e4199cf2",
   "metadata": {},
   "outputs": [],
   "source": [
    "class TreeNode:\n",
    "    def __init__(self, value, left=None, right=None):\n",
    "        self.val = value\n",
    "        self.left = left\n",
    "        self.right = right\n",
    "\n",
    "root = TreeNode(\"Trunk\")"
   ]
  },
  {
   "cell_type": "code",
   "execution_count": 30,
   "id": "51204abc",
   "metadata": {},
   "outputs": [
    {
     "data": {
      "text/plain": [
       "['Trunk', 'McIntosh', 'Fuji', 'Opal', 'Granny Smith', 'Crab', 'Gala']"
      ]
     },
     "execution_count": 30,
     "metadata": {},
     "output_type": "execute_result"
    }
   ],
   "source": [
    "root.left = TreeNode(\"McIntosh\")\n",
    "root.left.left = TreeNode(\"Fuji\")\n",
    "root.left.right = TreeNode(\"Opal\")\n",
    "root.right = TreeNode(\"Granny Smith\")\n",
    "root.right.left = TreeNode(\"Crab\")\n",
    "root.right.right = TreeNode(\"Gala\")\n",
    "\n",
    "\n",
    "def print_tree(root):\n",
    "    tree = []\n",
    "\n",
    "    def print_tree_helper(root):\n",
    "        if not root:\n",
    "            return\n",
    "        # if not root.left or not root.right:\n",
    "        #     return\n",
    "        else:\n",
    "            if not root.val:\n",
    "                tree.append(root)\n",
    "            else:\n",
    "                tree.append(root.val)\n",
    "        \n",
    "            left = print_tree_helper(root.left)\n",
    "            right = print_tree_helper(root.right)\n",
    "            if left:\n",
    "                tree.append(left)\n",
    "            if right:\n",
    "                tree.append(right)\n",
    "        \n",
    "\n",
    "    print_tree_helper(root)\n",
    "    return tree\n",
    "\n",
    "\n",
    "print_tree(root)"
   ]
  },
  {
   "cell_type": "markdown",
   "id": "377b4567",
   "metadata": {},
   "source": [
    "# Problem 2: Calculating Yield\n",
    "\n",
    "You have a fruit tree represented as a binary tree with exactly three nodes: the root and its two children. Given the root of the tree, evaluate the amount of fruit your tree will yield this year. The tree has the following form:\n",
    "\n",
    "Leaf nodes have an integer value.\n",
    "The root has a string value of either \"+\", \"-\", \"*\", or \"-\".\n",
    "The yield of a the tree is calculated by applying the mathematical operation to the two children.\n",
    "\n",
    "Return the result of evaluating the root node.\n",
    "\n",
    "Evaluate the time complexity of your function. Define your variables and provide a rationale for why you believe your solution has the stated time complexity."
   ]
  },
  {
   "cell_type": "code",
   "execution_count": 31,
   "id": "23db7c1f",
   "metadata": {},
   "outputs": [
    {
     "ename": "AttributeError",
     "evalue": "'int' object has no attribute 'val'",
     "output_type": "error",
     "traceback": [
      "\u001b[31m---------------------------------------------------------------------------\u001b[39m",
      "\u001b[31mAttributeError\u001b[39m                            Traceback (most recent call last)",
      "\u001b[36mCell\u001b[39m\u001b[36m \u001b[39m\u001b[32mIn[31]\u001b[39m\u001b[32m, line 13\u001b[39m\n\u001b[32m     10\u001b[39m apple_tree = Tree_node(\u001b[33m\"\u001b[39m\u001b[33m-\u001b[39m\u001b[33m\"\u001b[39m, \u001b[32m7\u001b[39m, \u001b[32m5\u001b[39m)\n\u001b[32m     11\u001b[39m peach_tree = Tree_node(\u001b[33m\"\u001b[39m\u001b[33m+\u001b[39m\u001b[33m\"\u001b[39m, \u001b[32m7\u001b[39m, \u001b[32m5\u001b[39m)\n\u001b[32m---> \u001b[39m\u001b[32m13\u001b[39m \u001b[43mprint_tree\u001b[49m\u001b[43m(\u001b[49m\u001b[43mmango_tree\u001b[49m\u001b[43m)\u001b[49m\n",
      "\u001b[36mCell\u001b[39m\u001b[36m \u001b[39m\u001b[32mIn[30]\u001b[39m\u001b[32m, line 31\u001b[39m, in \u001b[36mprint_tree\u001b[39m\u001b[34m(root)\u001b[39m\n\u001b[32m     27\u001b[39m         \u001b[38;5;28;01mif\u001b[39;00m right:\n\u001b[32m     28\u001b[39m             tree.append(right)\n\u001b[32m---> \u001b[39m\u001b[32m31\u001b[39m \u001b[43mprint_tree_helper\u001b[49m\u001b[43m(\u001b[49m\u001b[43mroot\u001b[49m\u001b[43m)\u001b[49m\n\u001b[32m     32\u001b[39m \u001b[38;5;28;01mreturn\u001b[39;00m tree\n",
      "\u001b[36mCell\u001b[39m\u001b[36m \u001b[39m\u001b[32mIn[30]\u001b[39m\u001b[32m, line 23\u001b[39m, in \u001b[36mprint_tree.<locals>.print_tree_helper\u001b[39m\u001b[34m(root)\u001b[39m\n\u001b[32m     20\u001b[39m \u001b[38;5;28;01melse\u001b[39;00m:\n\u001b[32m     21\u001b[39m     tree.append(root.val)\n\u001b[32m---> \u001b[39m\u001b[32m23\u001b[39m left = \u001b[43mprint_tree_helper\u001b[49m\u001b[43m(\u001b[49m\u001b[43mroot\u001b[49m\u001b[43m.\u001b[49m\u001b[43mleft\u001b[49m\u001b[43m)\u001b[49m\n\u001b[32m     24\u001b[39m right = print_tree_helper(root.right)\n\u001b[32m     25\u001b[39m \u001b[38;5;28;01mif\u001b[39;00m left:\n",
      "\u001b[36mCell\u001b[39m\u001b[36m \u001b[39m\u001b[32mIn[30]\u001b[39m\u001b[32m, line 18\u001b[39m, in \u001b[36mprint_tree.<locals>.print_tree_helper\u001b[39m\u001b[34m(root)\u001b[39m\n\u001b[32m     14\u001b[39m     \u001b[38;5;28;01mreturn\u001b[39;00m\n\u001b[32m     15\u001b[39m \u001b[38;5;66;03m# if not root.left or not root.right:\u001b[39;00m\n\u001b[32m     16\u001b[39m \u001b[38;5;66;03m#     return\u001b[39;00m\n\u001b[32m     17\u001b[39m \u001b[38;5;28;01melse\u001b[39;00m:\n\u001b[32m---> \u001b[39m\u001b[32m18\u001b[39m     \u001b[38;5;28;01mif\u001b[39;00m \u001b[38;5;129;01mnot\u001b[39;00m \u001b[43mroot\u001b[49m\u001b[43m.\u001b[49m\u001b[43mval\u001b[49m:\n\u001b[32m     19\u001b[39m         tree.append(root)\n\u001b[32m     20\u001b[39m     \u001b[38;5;28;01melse\u001b[39;00m:\n",
      "\u001b[31mAttributeError\u001b[39m: 'int' object has no attribute 'val'"
     ]
    }
   ],
   "source": [
    "class Tree_node:\n",
    "    def __init__ (self, value, left=None, right=None):\n",
    "        self.val = value\n",
    "        self.left = left\n",
    "        self.right = right  \n",
    "\n",
    "\n",
    "mango_tree = Tree_node(\"*\", 7, 5)\n",
    "pear_tree = Tree_node(\"/\", 7, 5)\n",
    "apple_tree = Tree_node(\"-\", 7, 5)\n",
    "peach_tree = Tree_node(\"+\", 7, 5)\n",
    "\n",
    "print_tree(mango_tree)"
   ]
  }
 ],
 "metadata": {
  "kernelspec": {
   "display_name": "Python 3",
   "language": "python",
   "name": "python3"
  },
  "language_info": {
   "name": "python",
   "version": "3.12.10"
  }
 },
 "nbformat": 4,
 "nbformat_minor": 5
}
