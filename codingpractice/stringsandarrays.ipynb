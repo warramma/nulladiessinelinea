{
 "cells": [
  {
   "cell_type": "markdown",
   "id": "32a50b64",
   "metadata": {},
   "source": [
    "# Problem 1: Hunny Hunt\n",
    "Write a function linear_search() to help Winnie the Pooh locate his lost items. The function accepts a list items and a target value as parameters. The function should return the first index of target in items, and -1 if target is not in the lst. Do not use any built-in functions."
   ]
  },
  {
   "cell_type": "code",
   "execution_count": null,
   "id": "580da8f4",
   "metadata": {},
   "outputs": [
    {
     "name": "stdout",
     "output_type": "stream",
     "text": [
      "3\n",
      "-1\n"
     ]
    }
   ],
   "source": [
    "def linear_search(lst, target):\n",
    "    target_index = -1\n",
    "    lst_length = 0\n",
    "\n",
    "    for item in lst:\n",
    "        lst_length+=1\n",
    "    \n",
    "    for index in range(0,lst_length):\n",
    "        if target == lst[index]:\n",
    "           target_index = index \n",
    "    \n",
    "    return target_index\n",
    "\n",
    "items = ['haycorn', 'haycorn', 'haycorn', 'hunny', 'haycorn']\n",
    "target = 'hunny'\n",
    "print(linear_search(items, target))\n",
    "\n",
    "items = ['bed', 'blue jacket', 'red shirt', 'hunny']\n",
    "target = 'red balloon'\n",
    "print(linear_search(items, target))\n"
   ]
  }
 ],
 "metadata": {
  "kernelspec": {
   "display_name": "Python 3",
   "language": "python",
   "name": "python3"
  },
  "language_info": {
   "codemirror_mode": {
    "name": "ipython",
    "version": 3
   },
   "file_extension": ".py",
   "mimetype": "text/x-python",
   "name": "python",
   "nbconvert_exporter": "python",
   "pygments_lexer": "ipython3",
   "version": "3.12.10"
  }
 },
 "nbformat": 4,
 "nbformat_minor": 5
}
